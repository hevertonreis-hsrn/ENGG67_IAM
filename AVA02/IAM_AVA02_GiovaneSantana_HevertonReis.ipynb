{
 "cells": [
  {
   "cell_type": "markdown",
   "id": "81306a74-1434-4324-a36a-f408da222ae7",
   "metadata": {
    "id": "81306a74-1434-4324-a36a-f408da222ae7"
   },
   "source": [
    "# IAM - Avaliação 02\n",
    "**Disciplina:** Introdução ao Aprendizado de Máquina (ENGG67)  \n",
    "**Professor:** Antônio C. L. Fernandes Jr.  \n",
    "**Aluno(s):** Giovane Santos de Santana, Heverton Silva dos Reis  \n",
    "**Data de Entrega:** 06/05/2025\n",
    "\n",
    "---"
   ]
  },
  {
   "cell_type": "markdown",
   "id": "598509ce-c6ec-4542-ab59-54955cca2d07",
   "metadata": {
    "id": "598509ce-c6ec-4542-ab59-54955cca2d07"
   },
   "source": [
    "## Introdução\n",
    "\n",
    "<justify>\n",
    "Pesquisadores da universidade de Wisconsin utilizaram técnicas de processamento de imagem e aprendizado de máquina para aumentar a eficiência de um exame para diagnosticar câncer de mama. Neste trabalho será estudado o conjunto de dados utilizado para esse projeto.\n",
    "\n",
    "---"
   ]
  },
  {
   "cell_type": "markdown",
   "id": "32a3ce3e-e134-4fad-8f35-4a8debbc3a80",
   "metadata": {
    "id": "32a3ce3e-e134-4fad-8f35-4a8debbc3a80"
   },
   "source": [
    "Antes de começar a análise, é preciso instalar todas as bibliotecas que serão utilizadas:"
   ]
  },
  {
   "cell_type": "code",
   "execution_count": null,
   "id": "f93570a0",
   "metadata": {
    "id": "f93570a0",
    "scrolled": true
   },
   "outputs": [],
   "source": [
    "pip install ucimlrepo"
   ]
  },
  {
   "cell_type": "code",
   "execution_count": null,
   "id": "d0d3b268-8f21-47d6-8b8f-f14c6e21fb68",
   "metadata": {
    "id": "d0d3b268-8f21-47d6-8b8f-f14c6e21fb68",
    "scrolled": true
   },
   "outputs": [],
   "source": [
    "pip install seaborn"
   ]
  },
  {
   "cell_type": "code",
   "execution_count": null,
   "id": "4b94c7b5-62a0-4ce4-999b-5e924062e5d6",
   "metadata": {
    "id": "4b94c7b5-62a0-4ce4-999b-5e924062e5d6",
    "scrolled": true
   },
   "outputs": [],
   "source": [
    "pip install scikit-learn"
   ]
  },
  {
   "cell_type": "markdown",
   "id": "56c88f5c",
   "metadata": {
    "id": "56c88f5c"
   },
   "source": [
    "Em seguida, é preciso carregar o dataset, através de importação direta, como indicado pela documentação do repositório:"
   ]
  },
  {
   "cell_type": "code",
   "execution_count": null,
   "id": "0ee89cf6",
   "metadata": {
    "id": "0ee89cf6"
   },
   "outputs": [],
   "source": [
    "from ucimlrepo import fetch_ucirepo\n",
    "\n",
    "# fetch dataset\n",
    "breast_cancer_wisconsin_diagnostic = fetch_ucirepo(id=17)\n",
    "\n",
    "# data (as pandas dataframes)\n",
    "df = breast_cancer_wisconsin_diagnostic.data.features\n",
    "dt = breast_cancer_wisconsin_diagnostic.data.targets"
   ]
  },
  {
   "cell_type": "markdown",
   "id": "e5381841-a445-40c7-9668-765f80f4f63f",
   "metadata": {
    "id": "e5381841-a445-40c7-9668-765f80f4f63f"
   },
   "source": [
    "Por fim, realiza-se a importação das bibliotecas que serão utilizadas ao longo da análise:"
   ]
  },
  {
   "cell_type": "code",
   "execution_count": null,
   "id": "4886e3c4",
   "metadata": {
    "id": "4886e3c4"
   },
   "outputs": [],
   "source": [
    "import pandas as pd\n",
    "import seaborn as sns\n",
    "import matplotlib.pyplot as plt\n",
    "from sklearn.preprocessing import StandardScaler\n",
    "from sklearn.decomposition import PCA"
   ]
  },
  {
   "cell_type": "markdown",
   "id": "9451959c-cf49-4562-9763-9e47e052449f",
   "metadata": {
    "id": "9451959c-cf49-4562-9763-9e47e052449f"
   },
   "source": [
    "## Referências Bibliográficas\n",
    "\n",
    "[1] STREET, W; WOLBERG, W; MANGASARIAN, O. **Nuclear feature extraction for breast tumor diagnosis.** 1993. Published in Electronic imaging. Disponível em: https://www.semanticscholar.org/paper/Nuclear-feature-extraction-for-breast-tumor-Street-Wolberg/53f0fbb425bc14468eb3bf96b2e1d41ba8087f36 Acesso em 18 de abril de 2024."
   ]
  }
 ],
 "metadata": {
  "colab": {
   "provenance": []
  },
  "kernelspec": {
   "display_name": "Python 3 (ipykernel)",
   "language": "python",
   "name": "python3"
  },
  "language_info": {
   "codemirror_mode": {
    "name": "ipython",
    "version": 3
   },
   "file_extension": ".py",
   "mimetype": "text/x-python",
   "name": "python",
   "nbconvert_exporter": "python",
   "pygments_lexer": "ipython3",
   "version": "3.10.2"
  }
 },
 "nbformat": 4,
 "nbformat_minor": 5
}
